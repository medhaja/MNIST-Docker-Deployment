{
 "cells": [
  {
   "cell_type": "code",
   "execution_count": 1,
   "metadata": {},
   "outputs": [
    {
     "name": "stdout",
     "output_type": "stream",
     "text": [
      "x_train shape: (60000, 28, 28, 1)\n",
      "60000 train samples\n",
      "10000 test samples\n"
     ]
    }
   ],
   "source": [
    "import numpy as np\n",
    "from tensorflow import keras\n",
    "from tensorflow.keras import layers\n",
    "import matplotlib.pyplot as plt\n",
    "plt.ion()\n",
    "\n",
    "num_classes = 10\n",
    "input_shape = (28, 28, 1)\n",
    "\n",
    "(x_train, y_train), (x_test, y_test) = keras.datasets.mnist.load_data()\n",
    "x_test_inf, y_test_inf = x_test.copy(), y_test.copy()\n",
    "\n",
    "# Scale images to the [0, 1] range\n",
    "x_train = x_train.astype(\"float32\") / 255\n",
    "x_test = x_test.astype(\"float32\") / 255\n",
    "\n",
    "# Make sure images have shape (28, 28, 1)\n",
    "x_train = np.expand_dims(x_train, -1)\n",
    "x_test = np.expand_dims(x_test, -1)\n",
    "print(\"x_train shape:\", x_train.shape)\n",
    "print(x_train.shape[0], \"train samples\")\n",
    "print(x_test.shape[0], \"test samples\")\n",
    "\n",
    "# convert class vectors to binary class matrices\n",
    "y_train = keras.utils.to_categorical(y_train, num_classes)\n",
    "y_test = keras.utils.to_categorical(y_test, num_classes)"
   ]
  },
  {
   "cell_type": "code",
   "execution_count": 2,
   "metadata": {},
   "outputs": [],
   "source": [
    "id2class = {0: \"Zero\",\n",
    "            1: \"One\",\n",
    "            2: \"Two\",\n",
    "            3: \"Three\",\n",
    "            4: \"Four\",\n",
    "            5: \"Five\",\n",
    "            6: \"Six\",\n",
    "            7: \"Seven\",\n",
    "            8: \"eight\",\n",
    "            9: \"Nine\"}"
   ]
  },
  {
   "cell_type": "code",
   "execution_count": 3,
   "metadata": {},
   "outputs": [],
   "source": [
    "model = keras.Sequential(\n",
    "    [\n",
    "        keras.Input(shape=input_shape),\n",
    "        layers.Conv2D(32, kernel_size=(3, 3), activation=\"relu\"),\n",
    "        layers.MaxPooling2D(pool_size=(2, 2)),\n",
    "        layers.Conv2D(64, kernel_size=(3, 3), activation=\"relu\"),\n",
    "        layers.MaxPooling2D(pool_size=(2, 2)),\n",
    "        layers.Flatten(),\n",
    "        layers.Dropout(0.5),\n",
    "        layers.Dense(num_classes, activation=\"softmax\"),\n",
    "    ]\n",
    ")"
   ]
  },
  {
   "cell_type": "code",
   "execution_count": 4,
   "metadata": {},
   "outputs": [
    {
     "name": "stdout",
     "output_type": "stream",
     "text": [
      "Epoch 1/15\n",
      "844/844 [==============================] - 7s 4ms/step - loss: 0.2646 - accuracy: 0.9206 - val_loss: 0.0663 - val_accuracy: 0.9817\n",
      "Epoch 2/15\n",
      "844/844 [==============================] - 3s 4ms/step - loss: 0.0921 - accuracy: 0.9716 - val_loss: 0.0483 - val_accuracy: 0.9870\n",
      "Epoch 3/15\n",
      "844/844 [==============================] - 3s 4ms/step - loss: 0.0716 - accuracy: 0.9768 - val_loss: 0.0423 - val_accuracy: 0.9890\n",
      "Epoch 4/15\n",
      "844/844 [==============================] - 3s 4ms/step - loss: 0.0600 - accuracy: 0.9815 - val_loss: 0.0381 - val_accuracy: 0.9908\n",
      "Epoch 5/15\n",
      "844/844 [==============================] - 4s 5ms/step - loss: 0.0532 - accuracy: 0.9824 - val_loss: 0.0373 - val_accuracy: 0.9885\n",
      "Epoch 6/15\n",
      "844/844 [==============================] - 3s 4ms/step - loss: 0.0470 - accuracy: 0.9855 - val_loss: 0.0344 - val_accuracy: 0.9902\n",
      "Epoch 7/15\n",
      "844/844 [==============================] - 3s 4ms/step - loss: 0.0432 - accuracy: 0.9864 - val_loss: 0.0351 - val_accuracy: 0.9900\n",
      "Epoch 8/15\n",
      "844/844 [==============================] - 3s 4ms/step - loss: 0.0418 - accuracy: 0.9866 - val_loss: 0.0321 - val_accuracy: 0.9917\n",
      "Epoch 9/15\n",
      "844/844 [==============================] - 3s 4ms/step - loss: 0.0366 - accuracy: 0.9884 - val_loss: 0.0318 - val_accuracy: 0.9923\n",
      "Epoch 10/15\n",
      "844/844 [==============================] - 3s 4ms/step - loss: 0.0365 - accuracy: 0.9880 - val_loss: 0.0339 - val_accuracy: 0.9912\n",
      "Epoch 11/15\n",
      "844/844 [==============================] - 3s 4ms/step - loss: 0.0331 - accuracy: 0.9888 - val_loss: 0.0302 - val_accuracy: 0.9917\n",
      "Epoch 12/15\n",
      "844/844 [==============================] - 3s 4ms/step - loss: 0.0311 - accuracy: 0.9897 - val_loss: 0.0286 - val_accuracy: 0.9925\n",
      "Epoch 13/15\n",
      "844/844 [==============================] - 3s 4ms/step - loss: 0.0317 - accuracy: 0.9897 - val_loss: 0.0318 - val_accuracy: 0.9920\n",
      "Epoch 14/15\n",
      "844/844 [==============================] - 3s 4ms/step - loss: 0.0298 - accuracy: 0.9898 - val_loss: 0.0285 - val_accuracy: 0.9923\n",
      "Epoch 15/15\n",
      "844/844 [==============================] - 3s 4ms/step - loss: 0.0298 - accuracy: 0.9903 - val_loss: 0.0370 - val_accuracy: 0.9900\n"
     ]
    },
    {
     "data": {
      "text/plain": [
       "<keras.callbacks.History at 0x1de2fa2c400>"
      ]
     },
     "execution_count": 4,
     "metadata": {},
     "output_type": "execute_result"
    }
   ],
   "source": [
    "batch_size = 64\n",
    "epochs = 15\n",
    "\n",
    "model.compile(loss=\"categorical_crossentropy\", optimizer=\"adam\", metrics=[\"accuracy\"])\n",
    "\n",
    "model.fit(x_train, y_train, batch_size=batch_size, epochs=epochs, validation_split=0.1)"
   ]
  },
  {
   "cell_type": "code",
   "execution_count": 5,
   "metadata": {},
   "outputs": [
    {
     "name": "stdout",
     "output_type": "stream",
     "text": [
      "Test loss: 0.02806621789932251\n",
      "Test accuracy: 0.9923999905586243\n"
     ]
    }
   ],
   "source": [
    "score = model.evaluate(x_test, y_test, verbose=0)\n",
    "print(\"Test loss:\", score[0])\n",
    "print(\"Test accuracy:\", score[1])\n",
    "# model.save(\"d_mnist\")"
   ]
  },
  {
   "cell_type": "code",
   "execution_count": 6,
   "metadata": {},
   "outputs": [
    {
     "name": "stdout",
     "output_type": "stream",
     "text": [
      "Saved model to disk\n"
     ]
    }
   ],
   "source": [
    "# serialize model to JSON\n",
    "model_json = model.to_json()\n",
    "with open(\"Models/model.json\", \"w\") as json_file:\n",
    "    json_file.write(model_json)\n",
    "# serialize weights to HDF5\n",
    "model.save_weights(\"Models/model.h5\")\n",
    "print(\"Saved model to disk\")"
   ]
  },
  {
   "cell_type": "code",
   "execution_count": 7,
   "metadata": {},
   "outputs": [
    {
     "data": {
      "text/plain": [
       "Text(0.5, 1.0, 'Two')"
      ]
     },
     "execution_count": 7,
     "metadata": {},
     "output_type": "execute_result"
    },
    {
     "data": {
      "image/png": "[encoded data removed]",
      "text/plain": [
       "<Figure size 432x288 with 1 Axes>"
      ]
     },
     "metadata": {
      "needs_background": "light"
     },
     "output_type": "display_data"
    }
   ],
   "source": [
    "idx = 1\n",
    "im = x_test_inf[idx]\n",
    "plt.imshow(im, cmap=\"gray\")\n",
    "plt.title(id2class[y_test_inf[idx]])"
   ]
  },
  {
   "cell_type": "code",
   "execution_count": null,
   "metadata": {},
   "outputs": [],
   "source": [
    "import requests\n",
    "import json\n",
    "import time\n",
    "# start_time = time.time()\n",
    "\n",
    "print(type(x_test_inf[idx]))\n",
    "im = x_test_inf[idx].tolist()\n",
    "data = {'image': im}\n",
    "URL = 'http://127.0.0.1:5000/predict'\n",
    "start_time = time.time()\n",
    "\n",
    "result = requests.post(URL, json.dumps(data))\n",
    "print(f\"Prediction = {result.text}\")\n",
    "end_time = time.time()\n",
    "print(f\"Time taken = {end_time - start_time}\")\n"
   ]
  },
  {
   "cell_type": "code",
   "execution_count": null,
   "metadata": {},
   "outputs": [],
   "source": [
    "from PIL import Image\n",
    "image = Image.open('one.png')\n",
    "iamge = image.resize((28, 28))\n",
    "# image = image.tolist()\n",
    "\n",
    "newsize = (28, 28)\n",
    "image = image.resize(newsize)\n",
    "image = np.asarray(image)\n",
    "image = image.tolist()\n",
    "\n",
    "data = {'image': image}\n",
    "URL = 'http://127.0.0.1:5000/predict'\n",
    "\n",
    "result = requests.post(URL, json.dumps(data))\n",
    "print(f\"Prediction = {result.text}\")"
   ]
  }
 ],
 "metadata": {
  "interpreter": {
   "hash": "54bd428ae3c8c7da62786e7f4f99fce11270d7e2d105794f22af38386a63a9cb"
  },
  "kernelspec": {
   "display_name": "Python 3.9.9 ('tf_gpu')",
   "language": "python",
   "name": "python3"
  },
  "language_info": {
   "codemirror_mode": {
    "name": "ipython",
    "version": 3
   },
   "file_extension": ".py",
   "mimetype": "text/x-python",
   "name": "python",
   "nbconvert_exporter": "python",
   "pygments_lexer": "ipython3",
   "version": "3.9.9"
  },
  "orig_nbformat": 4
 },
 "nbformat": 4,
 "nbformat_minor": 2
}
